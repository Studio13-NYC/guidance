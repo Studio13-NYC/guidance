{
 "cells": [
  {
   "cell_type": "markdown",
   "metadata": {},
   "source": [
    "# Pattern guides\n",
    "\n",
    "While you can specify a lot of structure with Guidance templates alone, it is often useful to enforce very specific patterns on our output data. To allow for this, Guidance has support for something we call \"pattern guides\" that allow you to specify regular expression formats to which generated text must adhere. Internally this is accomplished by filtering out token extensions that are not valid (partial) matches of the provided regex (note the current implementation has a lot of room for performance optimization).\n",
    "\n",
    "## Example\n",
    "In the following example we know that we want to get number for the generated `chapter` variable, but GPT2 does not know that, and instead makes up something else.\n",
    "\n",
    "### Invalid output without a pattern guide"
   ]
  },
  {
   "cell_type": "code",
   "execution_count": null,
   "metadata": {
    "tags": []
   },
   "outputs": [],
   "source": [
    "import guidance\n",
    "llm = guidance.llms.Transformers(\"gpt2\")\n",
    "guidance.llms.Transformers.cache.clear()\n",
    "program = guidance(\"\"\"Tweak this proverb to apply to model instructions instead.\n",
    "\n",
    "{{proverb}}\n",
    "- {{book}} {{chapter}}:{{verse}}\n",
    "\n",
    "UPDATED\n",
    "Where there is no guidance{{gen 'rewrite' stop=\"- \"}}\n",
    "- GPT {{gen 'chapter' max_tokens=10}}:{{gen 'verse' stop='\\\\n'}}\"\"\", llm=llm)\n",
    "\n",
    "# execute the program on a specific proverb\n",
    "program(\n",
    "    proverb=\"Where there is no guidance, a people falls,\\nbut in an abundance of counselors there is safety.\",\n",
    "    book=\"Proverbs\",\n",
    "    chapter=11,\n",
    "    verse=14\n",
    ")"
   ]
  },
  {
   "cell_type": "markdown",
   "metadata": {},
   "source": [
    "### Valid output with a pattern guide"
   ]
  },
  {
   "cell_type": "code",
   "execution_count": null,
   "metadata": {
    "tags": []
   },
   "outputs": [],
   "source": [
    "import guidance\n",
    "llm = guidance.llms.Transformers(\"gpt2\")\n",
    "guidance.llms.Transformers.cache.clear()\n",
    "program = guidance(\"\"\"Tweak this proverb to apply to model instructions instead.\n",
    "\n",
    "{{proverb}}\n",
    "- {{book}} {{chapter}}:{{verse}}\n",
    "\n",
    "UPDATED\n",
    "Where there is no guidance{{gen 'rewrite' stop=\"- \"}}\n",
    "- GPT {{gen 'chapter' max_tokens=10 pattern=\"[0-9]+\"}}:{{gen 'verse' stop='\\\\n'}}\"\"\", llm=llm)\n",
    "\n",
    "# execute the program on a specific proverb\n",
    "program(\n",
    "    proverb=\"Where there is no guidance, a people falls,\\nbut in an abundance of counselors there is safety.\",\n",
    "    book=\"Proverbs\",\n",
    "    chapter=11,\n",
    "    verse=14\n",
    ")"
   ]
  },
  {
   "cell_type": "markdown",
   "metadata": {},
   "source": [
    "<hr style=\"height: 1px; opacity: 0.5; border: none; background: #cccccc;\">\n",
    "<div style=\"text-align: center; opacity: 0.5\">Have an idea for more helpful examples? Pull requests that add to this documentation notebook are encouraged!</div>"
   ]
  }
 ],
 "metadata": {
  "kernelspec": {
   "display_name": "Python 3 (ipykernel)",
   "language": "python",
   "name": "python3"
  },
  "language_info": {
   "codemirror_mode": {
    "name": "ipython",
    "version": 3
   },
   "file_extension": ".py",
   "mimetype": "text/x-python",
   "name": "python",
   "nbconvert_exporter": "python",
   "pygments_lexer": "ipython3",
   "version": "3.10.7"
  }
 },
 "nbformat": 4,
 "nbformat_minor": 4
}
